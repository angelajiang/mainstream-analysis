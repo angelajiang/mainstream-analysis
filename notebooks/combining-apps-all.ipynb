{
 "cells": [
  {
   "cell_type": "code",
   "execution_count": 1,
   "metadata": {
    "slideshow": {
     "slide_type": "skip"
    }
   },
   "outputs": [],
   "source": [
    "import os\n",
    "import pandas as pd\n",
    "import seaborn as sns\n",
    "import matplotlib\n",
    "import matplotlib.pyplot as plt\n",
    "import numpy as np\n",
    "pd.set_option('precision', 4)\n",
    "sns.set_style('whitegrid')\n",
    "%matplotlib inline\n",
    "matplotlib.rcParams['figure.figsize'] = [20, 5]\n",
    "matplotlib.rcParams['font.size'] = 15\n",
    "matplotlib.rcParams['xtick.labelsize'] = 15\n",
    "matplotlib.rcParams['ytick.labelsize'] = 15\n",
    "matplotlib.rcParams['axes.labelsize'] = 15\n",
    "matplotlib.rcParams['legend.fontsize'] = 15\n",
    "matplotlib.rcParams['axes.titlesize'] = 'x-large'"
   ]
  },
  {
   "cell_type": "code",
   "execution_count": 2,
   "metadata": {
    "slideshow": {
     "slide_type": "skip"
    }
   },
   "outputs": [],
   "source": [
    "# prefix = \"../log\"\n",
    "prefix = \"../output/streamer/scheduler/combinations\"\n",
    "filenames = [\"{}/sched-sim-permute-all-{}.csv\".format(prefix, i) for i in range(1, 10+1)]\n",
    "dfs = [pd.read_csv(f, header=None) for f in filenames if os.path.isfile(f) and os.path.getsize(f) > 0]\n",
    "df_all = pd.concat(dfs)"
   ]
  },
  {
   "cell_type": "code",
   "execution_count": 3,
   "metadata": {
    "slideshow": {
     "slide_type": "skip"
    }
   },
   "outputs": [
    {
     "ename": "NameError",
     "evalue": "name 'aa' is not defined",
     "output_type": "error",
     "traceback": [
      "\u001b[0;31m---------------------------------------------------------------------------\u001b[0m",
      "\u001b[0;31mNameError\u001b[0m                                 Traceback (most recent call last)",
      "\u001b[0;32m<ipython-input-3-539484612645>\u001b[0m in \u001b[0;36m<module>\u001b[0;34m()\u001b[0m\n\u001b[1;32m     11\u001b[0m \u001b[0;34m\u001b[0m\u001b[0m\n\u001b[1;32m     12\u001b[0m \u001b[0;32mfor\u001b[0m \u001b[0mmetric\u001b[0m \u001b[0;32min\u001b[0m \u001b[0;34m[\u001b[0m\u001b[0;34m'Rel Acc Loss'\u001b[0m\u001b[0;34m,\u001b[0m \u001b[0;34m'FNR'\u001b[0m\u001b[0;34m]\u001b[0m\u001b[0;34m:\u001b[0m\u001b[0;34m\u001b[0m\u001b[0m\n\u001b[0;32m---> 13\u001b[0;31m     \u001b[0mdf_all\u001b[0m\u001b[0;34m[\u001b[0m\u001b[0mmetric\u001b[0m \u001b[0;34m+\u001b[0m \u001b[0;34m's'\u001b[0m\u001b[0;34m]\u001b[0m \u001b[0;34m=\u001b[0m \u001b[0mdf_all\u001b[0m\u001b[0;34m[\u001b[0m\u001b[0mmetric\u001b[0m \u001b[0;34m+\u001b[0m \u001b[0;34m's'\u001b[0m\u001b[0;34m]\u001b[0m\u001b[0;34m.\u001b[0m\u001b[0mfillna\u001b[0m\u001b[0;34m(\u001b[0m\u001b[0mdf_all\u001b[0m\u001b[0;34m[\u001b[0m\u001b[0;34m'Avg '\u001b[0m \u001b[0;34m+\u001b[0m \u001b[0mmetric\u001b[0m\u001b[0;34m]\u001b[0m\u001b[0;34m)\u001b[0m\u001b[0;34m.\u001b[0m\u001b[0mapply\u001b[0m\u001b[0;34m(\u001b[0m\u001b[0maa\u001b[0m\u001b[0;34m)\u001b[0m\u001b[0;34m\u001b[0m\u001b[0m\n\u001b[0m\u001b[1;32m     14\u001b[0m \u001b[0;34m\u001b[0m\u001b[0m\n\u001b[1;32m     15\u001b[0m \u001b[0;31m# Normalise against baseline FNR.\u001b[0m\u001b[0;34m\u001b[0m\u001b[0;34m\u001b[0m\u001b[0m\n",
      "\u001b[0;31mNameError\u001b[0m: name 'aa' is not defined"
     ]
    }
   ],
   "source": [
    "df_all['comb'] = df_all[0].apply(str).str.split('_')\n",
    "df_all['No of applications'] = df_all['comb'].apply(len)\n",
    "df_all['Avg FNR'] = df_all[1]\n",
    "df_all['Avg Rel Acc Loss'] = df_all[2]\n",
    "df_all['FNRs'] = df_all[3].str.split('_')\n",
    "df_all['Rel Acc Losss'] = df_all[4].str.split('_')\n",
    "\n",
    "a = ['mean={}'.format(i) for i in range(10)]\n",
    "baselines = {i: df_all[df_all[0] == 'mean={}'.format(i)] for i in range(6)}\n",
    "baselines_fnr = {k: float(v['Avg FNR']) for k, v in baselines.items()}\n",
    "\n",
    "for metric in ['Rel Acc Loss', 'FNR']:\n",
    "    df_all[metric + 's'] = df_all[metric + 's'].fillna(df_all['Avg ' + metric]).apply(aa)\n",
    "\n",
    "# Normalise against baseline FNR.\n",
    "df_all['Curves'] = df_all[0].apply(lambda x: x.replace(\"mean=\", \"\").split(\"_\"))\n",
    "def norm(x):\n",
    "    return [fnr / baselines_fnr[int(curve)]\n",
    "            for curve, fnr in zip(x['Curves'], x['FNRs'])]\n",
    "def c_loss(x):\n",
    "    return [fnr - baselines_fnr[int(curve)]\n",
    "            for curve, fnr in zip(x['Curves'], x['FNRs'])]\n",
    "\n",
    "df_all['Normed FNRs'] = df_all.apply(norm, axis=1)\n",
    "df_all['Avg Normed FNR'] = df_all['Normed FNRs'].apply(np.mean)\n",
    "df_all['FNR Losss'] = df_all.apply(c_loss, axis=1)\n",
    "df_all['Avg FNR Loss'] = df_all['FNR Losss'].apply(np.mean)\n",
    "\n",
    "def aa(x):\n",
    "    if not isinstance(x, list):\n",
    "        x = [x]\n",
    "    return map(float, x)\n",
    "for metric in ['Rel Acc Loss', 'FNR', 'Normed FNR', 'FNR Loss']:\n",
    "    df_all[metric + 's'] = df_all[metric + 's'].fillna(df_all['Avg ' + metric]).apply(aa)\n",
    "    df_all['Min ' + metric] = df_all[metric + 's'].apply(min)\n",
    "    df_all['Max ' + metric] = df_all[metric + 's'].apply(max)\n",
    "    df_all['Max-Min ' + metric] = df_all[metric + 's'].apply(lambda x: max(x) - min(x))\n",
    "    df_all['(Max-Min)/Max ' + metric] = df_all[metric + 's'].apply(lambda x: (max(x) - min(x))/(max(x)+.01))"
   ]
  },
  {
   "cell_type": "code",
   "execution_count": null,
   "metadata": {
    "slideshow": {
     "slide_type": "skip"
    }
   },
   "outputs": [],
   "source": [
    "plot_kwargs = {'x_jitter': .15, 'fit_reg': False}\n",
    "metrics = ['Rel Acc Loss', 'FNR', 'FNR Loss', 'Normed FNR']"
   ]
  },
  {
   "cell_type": "code",
   "execution_count": null,
   "metadata": {
    "scrolled": true,
    "slideshow": {
     "slide_type": "skip"
    }
   },
   "outputs": [],
   "source": [
    "def plot_multiple(prefix='Avg', x_var='No of applications', fn=sns.barplot, plot_kwargs={}):\n",
    "    f, ax = plt.subplots(1, len(metrics))\n",
    "    for i, y_var in enumerate([prefix + ' ' + m for m in metrics]):\n",
    "        fn(df_all[x_var], df_all[y_var], ax=ax[i], **plot_kwargs)\n",
    "    plt.suptitle(prefix)"
   ]
  },
  {
   "cell_type": "code",
   "execution_count": null,
   "metadata": {
    "scrolled": false,
    "slideshow": {
     "slide_type": "slide"
    }
   },
   "outputs": [],
   "source": [
    "plot_multiple('Max-Min')"
   ]
  },
  {
   "cell_type": "markdown",
   "metadata": {
    "slideshow": {
     "slide_type": "-"
    }
   },
   "source": [
    "- **This graph: gap b/w best and worst in each combination.**\n",
    "\n",
    "#### General notes\n",
    "- Left to right:\n",
    "    - Rel Acc Loss\n",
    "    - FNR\n",
    "    - **FNR Loss (`FNR - baseline`)**\n",
    "    - Normed FNR (`FNR / baseline`)\n",
    "- Lower = Better.\n",
    "- Error bars are the std dev (rather than percentiles.)\n",
    "- Normed is a multiple, whereas the range for the rest is $[0, 1]$. Y-Axis is not synchronized b/w plots.\n",
    "- Combinations, not permutations"
   ]
  },
  {
   "cell_type": "code",
   "execution_count": null,
   "metadata": {
    "scrolled": true,
    "slideshow": {
     "slide_type": "slide"
    }
   },
   "outputs": [],
   "source": [
    "plot_multiple('Avg')"
   ]
  },
  {
   "cell_type": "markdown",
   "metadata": {},
   "source": [
    "**This graph: avg performance in each combination.**"
   ]
  },
  {
   "cell_type": "code",
   "execution_count": null,
   "metadata": {
    "scrolled": true,
    "slideshow": {
     "slide_type": "slide"
    }
   },
   "outputs": [],
   "source": [
    "plot_multiple('Max')"
   ]
  },
  {
   "cell_type": "markdown",
   "metadata": {},
   "source": [
    "This graph: max (**worst performing**) in each combination."
   ]
  },
  {
   "cell_type": "code",
   "execution_count": null,
   "metadata": {
    "slideshow": {
     "slide_type": "slide"
    }
   },
   "outputs": [],
   "source": [
    "plot_multiple('Min')"
   ]
  },
  {
   "cell_type": "markdown",
   "metadata": {},
   "source": [
    "- This graph: min (**best performing**) in each combination.\n",
    "- The right-most graph (Normed FNR) appears to converge to ~1.5x."
   ]
  },
  {
   "cell_type": "code",
   "execution_count": null,
   "metadata": {
    "slideshow": {
     "slide_type": "slide"
    }
   },
   "outputs": [],
   "source": [
    "sns.regplot(df_all['No of applications'], df_all['Max-Min FNR Loss'], **plot_kwargs);"
   ]
  },
  {
   "cell_type": "code",
   "execution_count": null,
   "metadata": {
    "scrolled": true,
    "slideshow": {
     "slide_type": "subslide"
    }
   },
   "outputs": [],
   "source": [
    "sns.regplot(df_all['No of applications'], df_all['Max-Min Normed FNR'], **plot_kwargs);"
   ]
  },
  {
   "cell_type": "markdown",
   "metadata": {},
   "source": [
    "Spread for normed seems to be bucketed. Possibly due to some kind of 'modulo' effect (since there are only 6 values to divide by)?"
   ]
  },
  {
   "cell_type": "code",
   "execution_count": null,
   "metadata": {
    "slideshow": {
     "slide_type": "subslide"
    }
   },
   "outputs": [],
   "source": [
    "sns.regplot(df_all['No of applications'], df_all['Max-Min FNR'], **plot_kwargs);"
   ]
  },
  {
   "cell_type": "code",
   "execution_count": null,
   "metadata": {
    "slideshow": {
     "slide_type": "slide"
    }
   },
   "outputs": [],
   "source": [
    "plot_multiple(prefix='Max-Min', fn=sns.regplot, plot_kwargs=plot_kwargs)"
   ]
  },
  {
   "cell_type": "code",
   "execution_count": null,
   "metadata": {
    "slideshow": {
     "slide_type": "slide"
    }
   },
   "outputs": [],
   "source": [
    "plot_multiple(prefix='Max-Min', fn=sns.boxplot)"
   ]
  },
  {
   "cell_type": "code",
   "execution_count": null,
   "metadata": {
    "slideshow": {
     "slide_type": "slide"
    }
   },
   "outputs": [],
   "source": [
    "df_all[['No of applications', 'comb', 'Avg FNR', 'Avg Rel Acc Loss', 'FNRs', 'Rel Acc Losss']]"
   ]
  }
 ],
 "metadata": {
  "celltoolbar": "Slideshow",
  "kernelspec": {
   "display_name": "Python 2",
   "language": "python",
   "name": "python2"
  },
  "language_info": {
   "codemirror_mode": {
    "name": "ipython",
    "version": 2
   },
   "file_extension": ".py",
   "mimetype": "text/x-python",
   "name": "python",
   "nbconvert_exporter": "python",
   "pygments_lexer": "ipython2",
   "version": "2.7.13"
  }
 },
 "nbformat": 4,
 "nbformat_minor": 1
}
