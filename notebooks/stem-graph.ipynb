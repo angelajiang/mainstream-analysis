{
 "cells": [
  {
   "cell_type": "code",
   "execution_count": 59,
   "metadata": {},
   "outputs": [],
   "source": [
    "import numpy as np\n",
    "import matplotlib.pyplot as plt\n",
    "import gc\n",
    "import cPickle as pickle\n",
    "import sys\n",
    "sys.path.append('../../mainstream/src/scheduler')\n",
    "sys.path.append('../../mainstream/src/scheduler/types')\n",
    "sys.path.append('../../mainstream/data')\n",
    "import scheduler_util\n",
    "from collections import defaultdict\n",
    "%matplotlib inline"
   ]
  },
  {
   "cell_type": "code",
   "execution_count": 60,
   "metadata": {},
   "outputs": [],
   "source": [
    "stats = []\n",
    "gc.disable()\n",
    "for i in range(4):\n",
    "    try:\n",
    "        with open('../../mainstream/data/graph-b100-{}.pkl'.format(i), 'rb') as f:\n",
    "            stats.append(pickle.load(f))\n",
    "    except Exception:\n",
    "        pass\n",
    "gc.enable()"
   ]
  },
  {
   "cell_type": "code",
   "execution_count": 61,
   "metadata": {},
   "outputs": [
    {
     "name": "stdout",
     "output_type": "stream",
     "text": [
      "(993, 993)\n",
      "(5919, 6912)\n",
      "(11908, 18820)\n"
     ]
    }
   ],
   "source": [
    "all_edges = set()\n",
    "for dp, edges in stats[1:]:\n",
    "    all_edges |= edges\n",
    "    print(len(edges), len(all_edges))"
   ]
  },
  {
   "cell_type": "code",
   "execution_count": 62,
   "metadata": {},
   "outputs": [],
   "source": [
    "nodes = set()\n",
    "for a, b in all_edges:\n",
    "    nodes.add(a)\n",
    "    nodes.add(b)"
   ]
  },
  {
   "cell_type": "code",
   "execution_count": 70,
   "metadata": {},
   "outputs": [],
   "source": [
    "def id_stem(stem_):\n",
    "    if stem_ is None:\n",
    "        return 'root'\n",
    "    if not isinstance(stem_, tuple):\n",
    "        stem_ = stem_.stem\n",
    "    assert len(stem_) == len(set(x[0] for x in stem_))\n",
    "    return '{}_{}-{}'.format(len(stem_), len(set(x[1] for x in stem_)), hex(hash((4131,) + stem_ + (4321,123)))[-16:])\n",
    "\n",
    "node_ids = {}\n",
    "for node in nodes:\n",
    "    if id_stem(node) in node_ids:\n",
    "        assert node.stem == node_ids[id_stem(node)].stem \n",
    "#         print node.stem, node_ids[id_stem(node)].stem\n",
    "    node_ids[id_stem(node)] = node\n",
    "# assert len(nodes) == len(node_ids), (len(nodes), len(node_ids))\n",
    "unique_edges = set((a.stem, b.stem) for a, b in all_edges)\n",
    "for a in stats[0][0]:\n",
    "    unique_edges.add((None, a.stem))"
   ]
  },
  {
   "cell_type": "code",
   "execution_count": 71,
   "metadata": {},
   "outputs": [],
   "source": [
    "with open('../output/mainstream/stems/edges.csv', 'w') as f:\n",
    "    for a, b in unique_edges:\n",
    "        f.write(id_stem(a) + ',' + id_stem(b) + '\\n')"
   ]
  },
  {
   "cell_type": "code",
   "execution_count": 72,
   "metadata": {},
   "outputs": [],
   "source": [
    "weights = defaultdict(int)\n",
    "for dp, edges in stats:\n",
    "    for stem, v in dp.iteritems():\n",
    "        weights[id_stem(stem)] += len(v)"
   ]
  },
  {
   "cell_type": "code",
   "execution_count": 73,
   "metadata": {},
   "outputs": [],
   "source": [
    "with open('../output/mainstream/stems/nodes.csv', 'w') as f:\n",
    "    f.write('id,label,weight\\n')\n",
    "    for node in node_ids:\n",
    "        f.write('{},{},{}\\n'.format(node, node, weights[node]))"
   ]
  },
  {
   "cell_type": "code",
   "execution_count": 74,
   "metadata": {},
   "outputs": [],
   "source": [
    "edge_weights = defaultdict(int)\n",
    "for dp, edges in stats:\n",
    "    for stem, v in dp.iteritems():\n",
    "        for vv in v:\n",
    "            info = vv[2]\n",
    "            edge_weights[(id_stem(info['prev_stem']), id_stem(stem))] += 1\n",
    "\n"
   ]
  },
  {
   "cell_type": "code",
   "execution_count": 79,
   "metadata": {},
   "outputs": [],
   "source": [
    "with open('../output/mainstream/stems/edges_weighted.csv', 'w') as f:\n",
    "    f.write('source,target,weight\\n')\n",
    "    for a, b in unique_edges:\n",
    "        f.write(id_stem(a) + ',' + id_stem(b) + ',' + str(edge_weights[(id_stem(a), id_stem(b))]) + '\\n')\n",
    "\n",
    "with open('../output/mainstream/stems/edges_weighted_scaled.csv', 'w') as f:\n",
    "    f.write('source,target,weight,weight_original,weight_a,weight_b\\n')\n",
    "    for a, b in unique_edges:\n",
    "        weight = edge_weights[(id_stem(a), id_stem(b))]\n",
    "        f.write('{},{},{:g},{},{},{}\\n'.format(id_stem(a), id_stem(b), float(weight) / weights[id_stem(b)], weight, weights[id_stem(a)], weights[id_stem(b)]))\n"
   ]
  },
  {
   "cell_type": "code",
   "execution_count": 84,
   "metadata": {},
   "outputs": [
    {
     "data": {
      "text/plain": [
       "Counter({1: 118, 2: 726, 3: 702, 4: 126})"
      ]
     },
     "execution_count": 84,
     "metadata": {},
     "output_type": "execute_result"
    }
   ],
   "source": [
    "from collections import Counter\n",
    "stem_lens = Counter()\n",
    "for stem in nodes:\n",
    "    stem_lens[len(stem.stem)] += 1\n",
    "stem_lens"
   ]
  }
 ],
 "metadata": {
  "kernelspec": {
   "display_name": "Python 2",
   "language": "python",
   "name": "python2"
  },
  "language_info": {
   "codemirror_mode": {
    "name": "ipython",
    "version": 2
   },
   "file_extension": ".py",
   "mimetype": "text/x-python",
   "name": "python",
   "nbconvert_exporter": "python",
   "pygments_lexer": "ipython2",
   "version": "2.7.13"
  }
 },
 "nbformat": 4,
 "nbformat_minor": 2
}
