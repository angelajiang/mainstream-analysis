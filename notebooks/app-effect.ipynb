{
 "cells": [
  {
   "cell_type": "code",
   "execution_count": 1,
   "metadata": {
    "slideshow": {
     "slide_type": "skip"
    }
   },
   "outputs": [],
   "source": [
    "import os\n",
    "import pandas as pd\n",
    "import seaborn as sns\n",
    "import matplotlib\n",
    "import matplotlib.pyplot as plt\n",
    "import numpy as np\n",
    "pd.set_option('precision', 4)\n",
    "sns.set_style('ticks')\n",
    "%matplotlib inline\n",
    "matplotlib.rcParams['figure.figsize'] = [20, 7]\n",
    "matplotlib.rcParams['font.size'] = 15\n",
    "matplotlib.rcParams['xtick.labelsize'] = 15\n",
    "matplotlib.rcParams['ytick.labelsize'] = 15\n",
    "matplotlib.rcParams['axes.labelsize'] = 15\n",
    "matplotlib.rcParams['legend.fontsize'] = 15\n",
    "matplotlib.rcParams['axes.titlesize'] = 'x-large'"
   ]
  },
  {
   "cell_type": "code",
   "execution_count": 2,
   "metadata": {
    "slideshow": {
     "slide_type": "skip"
    }
   },
   "outputs": [],
   "source": [
    "# prefix = \"../log\"\n",
    "prefix = \"../output/streamer/scheduler/combinations\"\n",
    "filenames = [\"{}/sched-sim-permute-all-{}.csv\".format(prefix, i) for i in range(1, 10+1)]\n",
    "dfs = [pd.read_csv(f, header=None) for f in filenames if os.path.isfile(f) and os.path.getsize(f) > 0]\n",
    "df_all = pd.concat(dfs)"
   ]
  },
  {
   "cell_type": "code",
   "execution_count": 3,
   "metadata": {
    "slideshow": {
     "slide_type": "skip"
    }
   },
   "outputs": [],
   "source": [
    "df_all['comb'] = df_all[0].apply(str).str.split('_')\n",
    "df_all['No of applications'] = df_all['comb'].apply(len)\n",
    "df_all['Avg FNR'] = df_all[1]\n",
    "df_all['Avg Rel Acc Loss'] = df_all[2]\n",
    "df_all['FNRs'] = df_all[3].str.split('_')\n",
    "df_all['Rel Acc Losss'] = df_all[4].str.split('_')\n",
    "\n",
    "a = ['mean={}'.format(i) for i in range(10)]\n",
    "baselines = {i: df_all[df_all[0] == 'mean={}'.format(i)] for i in range(6)}\n",
    "baselines_fnr = {k: float(v['Avg FNR']) for k, v in baselines.items()}\n",
    "\n",
    "def aa(x):\n",
    "    if not isinstance(x, list):\n",
    "        x = [x]\n",
    "    return map(float, x)\n",
    "\n",
    "for metric in ['Rel Acc Loss', 'FNR']:\n",
    "    df_all[metric + 's'] = df_all[metric + 's'].fillna(df_all['Avg ' + metric]).apply(aa)\n",
    "\n",
    "# Normalise against baseline FNR.\n",
    "df_all['Curves'] = df_all[0].apply(lambda x: x.replace(\"mean=\", \"\").split(\"_\"))\n",
    "def norm(x):\n",
    "    return [fnr / baselines_fnr[int(curve)]\n",
    "            for curve, fnr in zip(x['Curves'], x['FNRs'])]\n",
    "def c_loss(x):\n",
    "    return [fnr - baselines_fnr[int(curve)]\n",
    "            for curve, fnr in zip(x['Curves'], x['FNRs'])]\n",
    "\n",
    "df_all['Normed FNRs'] = df_all.apply(norm, axis=1)\n",
    "df_all['Avg Normed FNR'] = df_all['Normed FNRs'].apply(np.mean)\n",
    "df_all['FNR Losss'] = df_all.apply(c_loss, axis=1)\n",
    "df_all['Avg FNR Loss'] = df_all['FNR Losss'].apply(np.mean)\n",
    "\n",
    "for metric in ['Rel Acc Loss', 'FNR', 'Normed FNR', 'FNR Loss']:\n",
    "    df_all[metric + 's'] = df_all[metric + 's'].fillna(df_all['Avg ' + metric]).apply(aa)\n",
    "    df_all['Min ' + metric] = df_all[metric + 's'].apply(min)\n",
    "    df_all['Max ' + metric] = df_all[metric + 's'].apply(max)\n",
    "    df_all['Max-Min ' + metric] = df_all[metric + 's'].apply(lambda x: max(x) - min(x))\n",
    "    df_all['(Max-Min)/Max ' + metric] = df_all[metric + 's'].apply(lambda x: (max(x) - min(x))/(max(x)+.01))"
   ]
  },
  {
   "cell_type": "code",
   "execution_count": 4,
   "metadata": {
    "slideshow": {
     "slide_type": "skip"
    }
   },
   "outputs": [],
   "source": [
    "cols = [u'comb',\n",
    "               u'No of applications',                    u'Avg FNR',\n",
    "                 u'Avg Rel Acc Loss',                       u'FNRs',\n",
    "                    u'Rel Acc Losss',                     u'Curves',\n",
    "                      u'Normed FNRs',             u'Avg Normed FNR',\n",
    "                        u'FNR Losss',               u'Avg FNR Loss',\n",
    "                 u'Min Rel Acc Loss',           u'Max Rel Acc Loss',\n",
    "             u'Max-Min Rel Acc Loss', u'(Max-Min)/Max Rel Acc Loss',\n",
    "                          u'Min FNR',                    u'Max FNR',\n",
    "                      u'Max-Min FNR',          u'(Max-Min)/Max FNR',\n",
    "                   u'Min Normed FNR',             u'Max Normed FNR',\n",
    "               u'Max-Min Normed FNR',   u'(Max-Min)/Max Normed FNR',\n",
    "                     u'Min FNR Loss',               u'Max FNR Loss',\n",
    "                 u'Max-Min FNR Loss',     u'(Max-Min)/Max FNR Loss']\n",
    "df_all2 = df_all[cols]\n",
    "\n",
    "def get_n_apps(x):\n",
    "    return df_all2[df_all2['No of applications'] == x]\n",
    "\n",
    "metrics = ['Rel Acc Loss', 'FNR', 'FNR Loss', 'Normed FNR']\n",
    "bases = ['Rel Acc Loss', 'FNR']"
   ]
  },
  {
   "cell_type": "markdown",
   "metadata": {},
   "source": [
    "## Curves"
   ]
  },
  {
   "cell_type": "code",
   "execution_count": 5,
   "metadata": {
    "slideshow": {
     "slide_type": "skip"
    }
   },
   "outputs": [
    {
     "ename": "ImportError",
     "evalue": "No module named app_data",
     "output_type": "error",
     "traceback": [
      "\u001b[0;31m---------------------------------------------------------------------------\u001b[0m",
      "\u001b[0;31mImportError\u001b[0m                               Traceback (most recent call last)",
      "\u001b[0;32m<ipython-input-5-71a59fa67f7a>\u001b[0m in \u001b[0;36m<module>\u001b[0;34m()\u001b[0m\n\u001b[1;32m      1\u001b[0m \u001b[0;32mimport\u001b[0m \u001b[0msys\u001b[0m\u001b[0;34m\u001b[0m\u001b[0m\n\u001b[1;32m      2\u001b[0m \u001b[0msys\u001b[0m\u001b[0;34m.\u001b[0m\u001b[0mpath\u001b[0m\u001b[0;34m.\u001b[0m\u001b[0mappend\u001b[0m\u001b[0;34m(\u001b[0m\u001b[0;34m'../data'\u001b[0m\u001b[0;34m)\u001b[0m\u001b[0;34m\u001b[0m\u001b[0m\n\u001b[0;32m----> 3\u001b[0;31m \u001b[0;32mimport\u001b[0m \u001b[0mapp_data\u001b[0m\u001b[0;34m\u001b[0m\u001b[0m\n\u001b[0m\u001b[1;32m      4\u001b[0m \u001b[0mcurves\u001b[0m \u001b[0;34m=\u001b[0m \u001b[0;34m[\u001b[0m\u001b[0ma\u001b[0m\u001b[0;34m[\u001b[0m\u001b[0;34m\"accuracies\"\u001b[0m\u001b[0;34m]\u001b[0m \u001b[0;32mfor\u001b[0m \u001b[0ma\u001b[0m \u001b[0;32min\u001b[0m \u001b[0mapp_data\u001b[0m\u001b[0;34m.\u001b[0m\u001b[0mapp_options3\u001b[0m\u001b[0;34m]\u001b[0m\u001b[0;34m\u001b[0m\u001b[0m\n\u001b[1;32m      5\u001b[0m \u001b[0mcurve_titles\u001b[0m \u001b[0;34m=\u001b[0m \u001b[0;34m[\u001b[0m\u001b[0;34m'Fake-Linear'\u001b[0m\u001b[0;34m,\u001b[0m \u001b[0;34m'Fake-Log'\u001b[0m\u001b[0;34m,\u001b[0m \u001b[0;34m'Syn-Flowers_Inception'\u001b[0m\u001b[0;34m,\u001b[0m \u001b[0;34m'Syn-Cats_Inception'\u001b[0m\u001b[0;34m,\u001b[0m \u001b[0;34m'Syn-Paris_Inception'\u001b[0m\u001b[0;34m,\u001b[0m \u001b[0;34m'Fake-Inflection'\u001b[0m\u001b[0;34m]\u001b[0m\u001b[0;34m\u001b[0m\u001b[0m\n",
      "\u001b[0;31mImportError\u001b[0m: No module named app_data"
     ]
    }
   ],
   "source": [
    "import sys\n",
    "sys.path.append('../data')\n",
    "import app_data\n",
    "curves = [a[\"accuracies\"] for a in app_data.app_options3]\n",
    "curve_titles = ['Fake-Linear', 'Fake-Log', 'Syn-Flowers_Inception', 'Syn-Cats_Inception', 'Syn-Paris_Inception', 'Fake-Inflection']"
   ]
  },
  {
   "cell_type": "code",
   "execution_count": null,
   "metadata": {
    "slideshow": {
     "slide_type": "slide"
    }
   },
   "outputs": [],
   "source": [
    "for curve, title in zip(curves, curve_titles):\n",
    "    xs, ys = zip(*sorted(curve.items()))\n",
    "    if title.startswith('Fake'):\n",
    "        style = 'o'\n",
    "    elif title.startswith('Syn'):\n",
    "        style = 'X'\n",
    "    plt.plot(xs, ys, style + '-', label=title)\n",
    "plt.xlabel('Layers fine-tuned')\n",
    "plt.ylabel('Accuracy')\n",
    "plt.legend();"
   ]
  },
  {
   "cell_type": "markdown",
   "metadata": {
    "slideshow": {
     "slide_type": "slide"
    }
   },
   "source": [
    "### 1 application"
   ]
  },
  {
   "cell_type": "code",
   "execution_count": null,
   "metadata": {
    "slideshow": {
     "slide_type": "-"
    }
   },
   "outputs": [],
   "source": [
    "fig, axes = plt.subplots(1, 2)\n",
    "for base, ax in zip(bases, axes):\n",
    "    plt.bar(get_n_apps(1)['Avg '+base].index, get_n_apps(1)['Avg '+base].values)"
   ]
  },
  {
   "cell_type": "code",
   "execution_count": null,
   "metadata": {
    "slideshow": {
     "slide_type": "subslide"
    }
   },
   "outputs": [],
   "source": [
    "get_n_apps(1)"
   ]
  },
  {
   "cell_type": "markdown",
   "metadata": {
    "slideshow": {
     "slide_type": "slide"
    }
   },
   "source": [
    "## 2 applications"
   ]
  },
  {
   "cell_type": "code",
   "execution_count": null,
   "metadata": {},
   "outputs": [],
   "source": [
    "# for base, ax in zip(bases, axes):\n",
    "#     plt.bar(get_n_apps(1)['Avg '+base].index, get_n_apps(1)['Avg '+base].values)\n",
    "df_ = get_n_apps(2)[['Curves', 'FNRs', 'Rel Acc Losss']]\n",
    "\n",
    "from collections import defaultdict\n",
    "kk = defaultdict(dict)\n",
    "def f(r):\n",
    "    for curve, fnr in zip(r['Curves'], r['FNRs']):\n",
    "        curve = int(curve)\n",
    "        c_idx = map(int, r['Curves'])\n",
    "        if curve != c_idx[0]:\n",
    "            c_idx = reversed(c_idx)\n",
    "        kk[curve][tuple(c_idx)] = fnr\n",
    "df_.apply(f, axis=1)\n",
    "\n",
    "fig, axes = plt.subplots(1, len(kk), sharey=True, sharex=True)\n",
    "plt.xticks(range(6), [curve_titles[k] for k in xs], rotation='vertical')\n",
    "\n",
    "for k, v in kk.items():\n",
    "    pts = sorted(v.items())\n",
    "    xs, ys = zip(*pts)\n",
    "    xs = [x[1] for x in xs]\n",
    "    axes[k].bar(xs, ys)\n",
    "    axes[k].set_title(curve_titles[k])\n",
    "    axes[k].axhline(baselines_fnr[k], color='r')\n",
    "#     axes[k].xticks(range(6), [curve_titles[k] for k in xs], rotation='vertical')\n",
    "axes[0].set_ylabel(\"FNR\");\n"
   ]
  },
  {
   "cell_type": "markdown",
   "metadata": {},
   "source": [
    "Red line = Baseline"
   ]
  },
  {
   "cell_type": "markdown",
   "metadata": {
    "slideshow": {
     "slide_type": "slide"
    }
   },
   "source": [
    "## 3 apps"
   ]
  },
  {
   "cell_type": "code",
   "execution_count": null,
   "metadata": {},
   "outputs": [],
   "source": [
    "get_n_apps(3)[['Curves', 'FNRs', 'Rel Acc Losss']]"
   ]
  }
 ],
 "metadata": {
  "celltoolbar": "Slideshow",
  "kernelspec": {
   "display_name": "Python 2",
   "language": "python",
   "name": "python2"
  },
  "language_info": {
   "codemirror_mode": {
    "name": "ipython",
    "version": 2
   },
   "file_extension": ".py",
   "mimetype": "text/x-python",
   "name": "python",
   "nbconvert_exporter": "python",
   "pygments_lexer": "ipython2",
   "version": "2.7.13"
  }
 },
 "nbformat": 4,
 "nbformat_minor": 2
}
