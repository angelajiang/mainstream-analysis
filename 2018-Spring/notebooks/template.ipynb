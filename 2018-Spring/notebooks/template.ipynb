{
 "cells": [
  {
   "cell_type": "code",
   "execution_count": null,
   "metadata": {},
   "outputs": [],
   "source": [
    "import matplotlib.pyplot as plt\n",
    "import pandas as pd\n",
    "import numpy as np\n",
    "%matplotlib inline"
   ]
  },
  {
   "cell_type": "code",
   "execution_count": null,
   "metadata": {},
   "outputs": [],
   "source": [
    "import sys\n",
    "import os\n",
    "sys.path.append(os.getcwd().split(\"mainstream-analysis\")[0] + \"mainstream-analysis/src\")\n",
    "import dataloaders\n",
    "from dataloaders.utils import *\n",
    "import plot\n",
    "from utils import save\n",
    "from plotutils import legends\n",
    "from plotutils import grids\n",
    "from plotutils import Series\n",
    "from plotutils import ex, comb, agg2xy, agg2series, get_errors, get_series\n",
    "from plotutils import styles"
   ]
  }
 ],
 "metadata": {
  "kernelspec": {
   "display_name": "Python 2",
   "language": "python",
   "name": "python2"
  },
  "language_info": {
   "codemirror_mode": {
    "name": "ipython",
    "version": 2
   },
   "file_extension": ".py",
   "mimetype": "text/x-python",
   "name": "python",
   "nbconvert_exporter": "python",
   "pygments_lexer": "ipython2",
   "version": "2.7.13"
  }
 },
 "nbformat": 4,
 "nbformat_minor": 2
}
