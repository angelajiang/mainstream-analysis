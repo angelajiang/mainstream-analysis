{
 "cells": [
  {
   "cell_type": "code",
   "execution_count": 1,
   "metadata": {
    "scrolled": true
   },
   "outputs": [],
   "source": [
    "%run ../template.ipynb"
   ]
  },
  {
   "cell_type": "code",
   "execution_count": 2,
   "metadata": {},
   "outputs": [],
   "source": [
    "exp_id = \"050318\"\n",
    "series_names = [\"mainstream\", \"maxsharing\", \"nosharing\"]\n",
    "num_apps_range = range(3, 30+1)\n",
    "# num_apps_range = range(3, 5+1)"
   ]
  },
  {
   "cell_type": "code",
   "execution_count": 3,
   "metadata": {},
   "outputs": [
    {
     "name": "stdout",
     "output_type": "stream",
     "text": [
      "Loading setups... Using InconsistentIds... Done (100 loaded)\n",
      "Loading setups... Using InconsistentIds... Done (100 loaded)\n",
      "Loading setups... Using InconsistentIds... Done (100 loaded)\n",
      "Loading setups... Using InconsistentIds... Done (100 loaded)\n",
      "Loading setups... Using InconsistentIds... Done (100 loaded)\n",
      "Loading setups... Using InconsistentIds... Done (100 loaded)\n",
      "Loading setups... Using InconsistentIds... Done (100 loaded)\n",
      "Loading setups... Using InconsistentIds... Done (100 loaded)\n",
      "Loading setups... Using InconsistentIds... Done (0 loaded)\n",
      "Loading setups... Using InconsistentIds... Done (0 loaded)\n",
      "Loading setups... Using InconsistentIds... Done (0 loaded)\n",
      "Loading setups... Using InconsistentIds... Done (0 loaded)\n",
      "Loading setups... Using InconsistentIds... Done (100 loaded)\n",
      "Loading setups... Using InconsistentIds... Done (0 loaded)\n",
      "Loading setups... Using InconsistentIds... Done (0 loaded)\n",
      "Loading setups... Using InconsistentIds... Done (0 loaded)\n",
      "Loading setups... Using InconsistentIds... Done (0 loaded)\n",
      "Loading setups... Using InconsistentIds... Done (100 loaded)\n",
      "Loading setups... Using InconsistentIds... Done (0 loaded)\n",
      "Loading setups... Using InconsistentIds... Done (0 loaded)\n",
      "Loading setups... Using InconsistentIds... Done (0 loaded)\n",
      "Loading setups... Using InconsistentIds... Done (0 loaded)\n",
      "Loading setups... Using InconsistentIds... Done (100 loaded)\n",
      "Loading setups... Using InconsistentIds... Done (0 loaded)\n",
      "Loading setups... Using InconsistentIds... Done (0 loaded)\n",
      "Loading setups... Using InconsistentIds... Done (0 loaded)\n",
      "Loading setups... Using InconsistentIds... Done (0 loaded)\n",
      "Loading setups... Using InconsistentIds... Done (100 loaded)\n"
     ]
    }
   ],
   "source": [
    "setups = {}\n",
    "for num_apps in num_apps_range:\n",
    "    setups.update(dataloaders.load_setups(exp_id,\n",
    "                                          setup_file_str=\"/setups.{exp_id}-\" + str(num_apps) + \"{version}.pickle\",\n",
    "                                          legacy='InconsistentIds'))"
   ]
  },
  {
   "cell_type": "code",
   "execution_count": 4,
   "metadata": {
    "hideCode": false
   },
   "outputs": [],
   "source": [
    "rows = []\n",
    "for series_name in series_names:\n",
    "    schedules = []\n",
    "    for num_apps in num_apps_range:\n",
    "        schedules += dataloaders.load_schedules(\"050318\", \"greedy.\" + series_name + \".sim.*-\" + str(num_apps) + \".v1\", variant='v1+metrics', setups=setups)\n",
    "    # Extract some attributes from the schedules.\n",
    "    # Add on some based on the file name.\n",
    "    rows += ex(schedules,\n",
    "               each=lambda s: s.to_map({'correlation': mean([app['correlation_coefficient'] for app in s._apps])}),\n",
    "               constant={'scheduler': 'greedy', 'sharing': series_name})\n",
    "df = comb(rows)"
   ]
  },
  {
   "cell_type": "code",
   "execution_count": 5,
   "metadata": {},
   "outputs": [
    {
     "data": {
      "text/plain": [
       "num_apps\n",
       "3     1800\n",
       "4     1800\n",
       "5     1800\n",
       "6     1800\n",
       "7     1800\n",
       "8     1800\n",
       "9     1800\n",
       "10    1800\n",
       "15    1800\n",
       "20    1800\n",
       "25    1800\n",
       "30      52\n",
       "dtype: int64"
      ]
     },
     "execution_count": 5,
     "metadata": {},
     "output_type": "execute_result"
    }
   ],
   "source": [
    "df.groupby('num_apps').apply(len)"
   ]
  },
  {
   "cell_type": "code",
   "execution_count": 6,
   "metadata": {},
   "outputs": [
    {
     "data": {
      "text/plain": [
       "num_apps  corr_bin\n",
       "3         0.2         0.742013\n",
       "          0.4         0.722835\n",
       "          0.6         0.718458\n",
       "          0.8         0.687967\n",
       "4         0.2         0.663228\n",
       "          0.4         0.731357\n",
       "          0.6         0.696788\n",
       "          0.8         0.746135\n",
       "5         0.2         0.726465\n",
       "          0.4         0.705118\n",
       "          0.6         0.708765\n",
       "          0.8         0.734243\n",
       "6         0.2         0.690255\n",
       "          0.4         0.701280\n",
       "          0.6         0.705586\n",
       "          0.8         0.686487\n",
       "7         0.2         0.763449\n",
       "          0.4         0.708869\n",
       "          0.6         0.694520\n",
       "          0.8         0.723236\n",
       "8         0.2         0.753909\n",
       "          0.4         0.692887\n",
       "          0.6         0.704916\n",
       "9         0.2         0.728025\n",
       "          0.4         0.696051\n",
       "          0.6         0.701810\n",
       "10        0.2         0.721363\n",
       "          0.4         0.692274\n",
       "          0.6         0.705409\n",
       "15        0.4         0.690342\n",
       "          0.6         0.706217\n",
       "20        0.4         0.687534\n",
       "          0.6         0.692127\n",
       "25        0.4         0.679381\n",
       "          0.6         0.681589\n",
       "30        0.4         0.287635\n",
       "          0.6         0.289115\n",
       "Name: f1, dtype: float64"
      ]
     },
     "execution_count": 6,
     "metadata": {},
     "output_type": "execute_result"
    }
   ],
   "source": [
    "import seaborn as sns\n",
    "df['corr_bin'] = df['correlation'].map(lambda x: round(x * 5) / 5)\n",
    "df_view = df[df['sharing'] == 'mainstream']\n",
    "df_view.groupby(['num_apps', 'corr_bin'])['f1'].mean()\n",
    "# for i in num_apps_range:\n",
    "#     df_view = df[df['num_apps'] == i]\n",
    "# #     plt.plot(df_view.groupby('correlation')['f1'].mean())\n",
    "#     print i\n",
    "#     sns.jointplot(df_view['correlation'], df_view['f1'], kind=\"kde\")\n"
   ]
  },
  {
   "cell_type": "code",
   "execution_count": 7,
   "metadata": {},
   "outputs": [],
   "source": [
    "# See Pandas: Group By: split-apply-combine\n",
    "# https://pandas.pydata.org/pandas-docs/stable/groupby.html\n",
    "df_view = df[df['budget'] == 100]\n",
    "# Group <setups> by number of apps, aggregate by mean.\n",
    "# Make sure that the right-most index is the x-axis.\n",
    "grouped = df_view.groupby(['sharing', 'num_apps'])\n",
    "\n",
    "# Original way (and most flexible) of doing it\n",
    "xss, yss = agg2xy(grouped['f1'].mean(), names=series_names)\n",
    "series = get_series(xss, yss,\n",
    "                    names=series_names,\n",
    "                    plotparams=dict(lw=2, markersize=8))\n",
    "\n",
    "# Neater way to do it if you don't need xss/yss\n",
    "series2 = agg2series(grouped['fps'].mean(),\n",
    "                     names=series_names,\n",
    "                     plotstyles=styles.SERIES_ALT,\n",
    "                     plotparams=dict(lw=1, markersize=8, alpha=0.7, linestyle='--'))"
   ]
  }
 ],
 "metadata": {
  "kernelspec": {
   "display_name": "Python 2",
   "language": "python",
   "name": "python2"
  },
  "language_info": {
   "codemirror_mode": {
    "name": "ipython",
    "version": 2
   },
   "file_extension": ".py",
   "mimetype": "text/x-python",
   "name": "python",
   "nbconvert_exporter": "python",
   "pygments_lexer": "ipython2",
   "version": "2.7.13"
  }
 },
 "nbformat": 4,
 "nbformat_minor": 2
}
