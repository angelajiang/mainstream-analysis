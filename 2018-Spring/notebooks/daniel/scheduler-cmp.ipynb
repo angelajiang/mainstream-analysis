{
 "cells": [
  {
   "cell_type": "code",
   "execution_count": 1,
   "metadata": {},
   "outputs": [],
   "source": [
    "%run ../template.ipynb"
   ]
  },
  {
   "cell_type": "code",
   "execution_count": 2,
   "metadata": {},
   "outputs": [],
   "source": [
    "exp_id = \"050318\"\n",
    "series_names = [\"greedy\", \"stems_cpp\", \"exhaustive\"]\n",
    "num_apps_range = range(2, 8+1)"
   ]
  },
  {
   "cell_type": "code",
   "execution_count": 3,
   "metadata": {},
   "outputs": [
    {
     "name": "stdout",
     "output_type": "stream",
     "text": [
      "Loading setups... Using InconsistentIds... Done\n",
      "Loading setups... Using InconsistentIds... Done\n",
      "Loading setups... Using InconsistentIds... Done\n",
      "Loading setups... Using InconsistentIds... Done\n",
      "Loading setups... Using InconsistentIds... Done\n",
      "Loading setups... Using InconsistentIds... Done\n",
      "Loading setups... Using InconsistentIds... Done\n"
     ]
    }
   ],
   "source": [
    "setups = {}\n",
    "for num_apps in num_apps_range:\n",
    "    setups.update(dataloaders.load_setups(exp_id,\n",
    "                                          setup_file_str=\"/setups.{exp_id}-\" + str(num_apps) + \"{version}.pickle\",\n",
    "                                          legacy='InconsistentIds'))\n",
    "                                          "
   ]
  },
  {
   "cell_type": "code",
   "execution_count": 4,
   "metadata": {
    "scrolled": false
   },
   "outputs": [],
   "source": [
    "rows = []\n",
    "# HACK\n",
    "variants = {\n",
    "    'greedy': 'v1+metrics',\n",
    "    'exhaustive': 'v1+cost',\n",
    "    'stems_cpp': None,\n",
    "}\n",
    "for series_name in series_names:\n",
    "    if series_name == 'exhaustive':\n",
    "        scheduleloader_kwargs = dict(apps_order='configurations')\n",
    "    else:\n",
    "        scheduleloader_kwargs = {}\n",
    "    schedules = []\n",
    "    for num_apps in num_apps_range:\n",
    "        schedules += dataloaders.load_schedules(\"050318\", series_name + \".mainstream.sim.*-\" + str(num_apps) + \".v1\", variant=variants[series_name], setups=setups, **scheduleloader_kwargs)\n",
    "    rows += ex(schedules,\n",
    "#                each=lambda s: {'f1': 1. - s.extra('metric'), 'fps': mean(s.fpses), 'num_apps': s.num_apps, 'budget': s.budget},\n",
    "               each=lambda s: s.to_map(),\n",
    "               constant={'scheduler': series_name, 'sharing': 'mainstream'})\n",
    "df = comb(rows)"
   ]
  },
  {
   "cell_type": "code",
   "execution_count": 5,
   "metadata": {},
   "outputs": [],
   "source": [
    "def desc(self, verbose=2):\n",
    "    if verbose == 0:\n",
    "        return 'Schedule(f1={:g}, fpses={}, frozens={})'.format(self.mean_f1(), self.fpses, self.frozens)\n",
    "    elif verbose == 2:\n",
    "        return 'Schedule(f1={:g}, fpses={}, frozens={}, obj={})'.format(self.mean_f1(), self.fpses, self.frozens, self.objectives)"
   ]
  },
  {
   "cell_type": "code",
   "execution_count": 6,
   "metadata": {},
   "outputs": [
    {
     "name": "stdout",
     "output_type": "stream",
     "text": [
      "Schedule(f1=0.915013, fpses=[6, 4, 6], frozens=[33, 33, 33], obj=[0.0549195736761, 0.0314129414174, 0.168627364063])\n"
     ]
    }
   ],
   "source": [
    "series_name = \"exhaustive\"\n",
    "num_apps = 3\n",
    "schedules = dataloaders.load_schedules(\"050318\", series_name + \".mainstream.sim.150.*\" + str(num_apps) + \".v1\", variant=variants[series_name], setups=setups, apps_order='configurations')\n",
    "print desc(schedules[0])"
   ]
  },
  {
   "cell_type": "code",
   "execution_count": 7,
   "metadata": {
    "scrolled": true
   },
   "outputs": [
    {
     "name": "stdout",
     "output_type": "stream",
     "text": [
      "Schedule(f1=0.915013, fpses=[6, 6, 4], frozens=[33, 33, 33], obj=[0.0549195736761, 0.168627364063, 0.0314129414174])\n"
     ]
    }
   ],
   "source": [
    "series_name = \"stems_cpp\"\n",
    "num_apps = 3\n",
    "schedules2 = dataloaders.load_schedules(\"050318\", series_name + \".mainstream.sim.150.*\" + str(num_apps) + \".v1\", variant=variants[series_name], setups=setups)\n",
    "print desc(schedules2[0])"
   ]
  },
  {
   "cell_type": "code",
   "execution_count": 8,
   "metadata": {},
   "outputs": [],
   "source": [
    "df_view = df[df['budget'] == 100]\n",
    "grouped = df_view.groupby(['scheduler', 'num_apps'])"
   ]
  },
  {
   "cell_type": "code",
   "execution_count": 9,
   "metadata": {
    "scrolled": true
   },
   "outputs": [
    {
     "data": {
      "image/png": "[encoded data removed]",
      "text/plain": [
       "<matplotlib.figure.Figure at 0x114c34950>"
      ]
     },
     "metadata": {},
     "output_type": "display_data"
    }
   ],
   "source": [
    "series = agg2series(grouped['f1'].mean(),\n",
    "                    names=series_names,\n",
    "                    plotparams=dict(lw=2, markersize=10, linestyle='-', marker='.'))\n",
    "ax = plot.variants(series, xgrid=grids.x.num_apps, ygrid=grids.y.f1)"
   ]
  },
  {
   "cell_type": "code",
   "execution_count": 10,
   "metadata": {
    "scrolled": true
   },
   "outputs": [
    {
     "name": "stderr",
     "output_type": "stream",
     "text": [
      "/usr/local/lib/python2.7/site-packages/numpy/core/numeric.py:531: UserWarning: Warning: converting a masked element to nan.\n",
      "  return array(a, dtype, copy=False, order=order)\n"
     ]
    },
    {
     "data": {
      "image/png": "[encoded data removed]",
      "text/plain": [
       "<matplotlib.figure.Figure at 0x114ca9650>"
      ]
     },
     "metadata": {},
     "output_type": "display_data"
    }
   ],
   "source": [
    "bars = [grouped['f1'].min(), grouped['f1'].max()]\n",
    "series = agg2series(grouped['f1'].mean(),\n",
    "                    names=series_names,\n",
    "                    errs=dict(e_abs=bars),\n",
    "                    plotparams='fg-e')\n",
    "ax = plot.variants(series, xgrid=grids.x.num_apps, ygrid=grids.y.f1)"
   ]
  },
  {
   "cell_type": "code",
   "execution_count": 11,
   "metadata": {},
   "outputs": [
    {
     "data": {
      "image/png": "[encoded data removed]",
      "text/plain": [
       "<matplotlib.figure.Figure at 0x114ca4f50>"
      ]
     },
     "metadata": {},
     "output_type": "display_data"
    }
   ],
   "source": [
    "bars = grouped['f1'].std()\n",
    "series = agg2series(grouped['f1'].mean(),\n",
    "                    names=series_names,\n",
    "                    errs=dict(e_delta=bars),\n",
    "                    plotparams='fg-e')\n",
    "ax = plot.variants(series, xgrid=grids.x.num_apps, ygrid=grids.y.f1)"
   ]
  }
 ],
 "metadata": {
  "kernelspec": {
   "display_name": "Python 2",
   "language": "python",
   "name": "python2"
  },
  "language_info": {
   "codemirror_mode": {
    "name": "ipython",
    "version": 2
   },
   "file_extension": ".py",
   "mimetype": "text/x-python",
   "name": "python",
   "nbconvert_exporter": "python",
   "pygments_lexer": "ipython2",
   "version": "2.7.13"
  }
 },
 "nbformat": 4,
 "nbformat_minor": 2
}
