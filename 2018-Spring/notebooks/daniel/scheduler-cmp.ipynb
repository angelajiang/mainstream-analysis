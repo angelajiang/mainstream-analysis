{
 "cells": [
  {
   "cell_type": "code",
   "execution_count": 65,
   "metadata": {},
   "outputs": [],
   "source": [
    "%run ../template.ipynb"
   ]
  },
  {
   "cell_type": "code",
   "execution_count": 66,
   "metadata": {},
   "outputs": [],
   "source": [
    "exp_id = \"050318\"\n",
    "series_names = [\"greedy\", \"stems_cpp\", \"exhaustive\"]\n",
    "num_apps_range = range(2, 15+1)"
   ]
  },
  {
   "cell_type": "code",
   "execution_count": 67,
   "metadata": {},
   "outputs": [
    {
     "name": "stdout",
     "output_type": "stream",
     "text": [
      "Loading setups... Using InconsistentIds... Done (100 loaded)\n",
      "Loading setups... Using InconsistentIds... Done (100 loaded)\n",
      "Loading setups... Using InconsistentIds... Done (100 loaded)\n",
      "Loading setups... Using InconsistentIds... Done (100 loaded)\n",
      "Loading setups... Using InconsistentIds... Done (100 loaded)\n",
      "Loading setups... Using InconsistentIds... Done (100 loaded)\n",
      "Loading setups... Using InconsistentIds... Done (100 loaded)\n",
      "Loading setups... Using InconsistentIds... Done (100 loaded)\n",
      "Loading setups... Using InconsistentIds... Done (100 loaded)\n",
      "Loading setups... Using InconsistentIds... Done (0 loaded)\n",
      "Loading setups... Using InconsistentIds... Done (0 loaded)\n",
      "Loading setups... Using InconsistentIds... Done (0 loaded)\n",
      "Loading setups... Using InconsistentIds... Done (0 loaded)\n",
      "Loading setups... Using InconsistentIds... Done (100 loaded)\n"
     ]
    }
   ],
   "source": [
    "setups = {}\n",
    "for num_apps in num_apps_range:\n",
    "    setups.update(dataloaders.load_setups(exp_id,\n",
    "                                          setup_file_str=\"/setups.{exp_id}-\" + str(num_apps) + \"{version}.pickle\",\n",
    "                                          legacy='InconsistentIds'))\n",
    "                                          "
   ]
  },
  {
   "cell_type": "code",
   "execution_count": 68,
   "metadata": {
    "scrolled": false
   },
   "outputs": [],
   "source": [
    "rows = []\n",
    "# HACK\n",
    "variants = {\n",
    "    'greedy': 'v1+metrics',\n",
    "    'exhaustive': 'v1+cost',\n",
    "    'stems_cpp': None,\n",
    "}\n",
    "for series_name in series_names:\n",
    "    if series_name == 'exhaustive':\n",
    "        scheduleloader_kwargs = dict(apps_order='configurations')\n",
    "    else:\n",
    "        scheduleloader_kwargs = {}\n",
    "    schedules = []\n",
    "    for num_apps in num_apps_range:\n",
    "        schedules += dataloaders.load_schedules(\"050318\", series_name + \".mainstream.sim.*-\" + str(num_apps) + \".v1\", variant=variants[series_name], setups=setups, **scheduleloader_kwargs)\n",
    "    rows += ex(schedules,\n",
    "#                each=lambda s: {'f1': 1. - s.extra('metric'), 'fps': mean(s.fpses), 'num_apps': s.num_apps, 'budget': s.budget},\n",
    "               each=lambda s: s.to_map({'setup_id': s.extra('setup_id')}),\n",
    "               constant={'scheduler': series_name, 'sharing': 'mainstream'})\n",
    "df = comb(rows)"
   ]
  },
  {
   "cell_type": "code",
   "execution_count": 69,
   "metadata": {},
   "outputs": [],
   "source": [
    "def desc(self, verbose=2):\n",
    "    if verbose == 0:\n",
    "        return 'Schedule(f1={:g}, fpses={}, frozens={})'.format(self.mean_f1(), self.fpses, self.frozens)\n",
    "    elif verbose == 2:\n",
    "        return 'Schedule(f1={:g}, fpses={}, frozens={}, obj={})'.format(self.mean_f1(), self.fpses, self.frozens, self.objectives)"
   ]
  },
  {
   "cell_type": "code",
   "execution_count": 70,
   "metadata": {},
   "outputs": [
    {
     "name": "stdout",
     "output_type": "stream",
     "text": [
      "Schedule(f1=0.915013, fpses=[6, 4, 6], frozens=[33, 33, 33], obj=[0.0549195736761, 0.0314129414174, 0.168627364063])\n"
     ]
    }
   ],
   "source": [
    "series_name = \"exhaustive\"\n",
    "num_apps = 3\n",
    "schedules = dataloaders.load_schedules(\"050318\", series_name + \".mainstream.sim.150.*\" + str(num_apps) + \".v1\", variant=variants[series_name], setups=setups, apps_order='configurations')\n",
    "print desc(schedules[0])"
   ]
  },
  {
   "cell_type": "code",
   "execution_count": 71,
   "metadata": {
    "scrolled": true
   },
   "outputs": [
    {
     "name": "stdout",
     "output_type": "stream",
     "text": [
      "Schedule(f1=0.915013, fpses=[6, 6, 4], frozens=[33, 33, 33], obj=[0.0549195736761, 0.168627364063, 0.0314129414174])\n"
     ]
    }
   ],
   "source": [
    "series_name = \"stems_cpp\"\n",
    "num_apps = 3\n",
    "schedules2 = dataloaders.load_schedules(\"050318\", series_name + \".mainstream.sim.150.*\" + str(num_apps) + \".v1\", variant=variants[series_name], setups=setups)\n",
    "print desc(schedules2[0])"
   ]
  },
  {
   "cell_type": "code",
   "execution_count": 72,
   "metadata": {},
   "outputs": [],
   "source": [
    "df_view = df[df['budget'] == 150]\n",
    "grouped = df_view.groupby(['scheduler', 'num_apps'])"
   ]
  },
  {
   "cell_type": "code",
   "execution_count": 73,
   "metadata": {
    "scrolled": true
   },
   "outputs": [
    {
     "data": {
      "image/png": "[encoded data removed]",
      "text/plain": [
       "<Figure size 432x288 with 1 Axes>"
      ]
     },
     "metadata": {},
     "output_type": "display_data"
    }
   ],
   "source": [
    "import matplotlib\n",
    "matplotlib.rcParams.update({\n",
    "    'axes.titlesize' : 24,\n",
    "    'axes.labelsize': 20,\n",
    "    'lines.linewidth': 3,\n",
    "    'lines.markersize': 10,\n",
    "    'xtick.labelsize': 15,\n",
    "    'ytick.labelsize': 15,\n",
    "    'legend.fontsize': 13,\n",
    "})\n",
    "series = agg2series(grouped['f1'].mean(),\n",
    "                    names=series_names,\n",
    "                    plotparams=dict(lw=2, markersize=10, linestyle='-', marker='.'))\n",
    "ax = plot.variants(series, xgrid=grids.x.num_apps, ygrid=grids.y.f1)"
   ]
  },
  {
   "cell_type": "code",
   "execution_count": 91,
   "metadata": {},
   "outputs": [
    {
     "name": "stdout",
     "output_type": "stream",
     "text": [
      "count    2.400000e+03\n",
      "mean     5.391113e-03\n",
      "std      1.073095e-02\n",
      "min     -4.440892e-16\n",
      "25%      0.000000e+00\n",
      "40%      0.000000e+00\n",
      "50%      3.901292e-05\n",
      "75%      6.247293e-03\n",
      "90%      1.759436e-02\n",
      "95%      2.598549e-02\n",
      "99%      5.291477e-02\n",
      "99.9%    8.720788e-02\n",
      "max      9.558758e-02\n",
      "Name: greedy_loss_exhaustive, dtype: float64\n",
      "\n",
      "count    4800.000000\n",
      "mean        0.008880\n",
      "std         0.012046\n",
      "min        -0.000001\n",
      "25%         0.000000\n",
      "40%         0.001987\n",
      "50%         0.004369\n",
      "75%         0.012998\n",
      "90%         0.024115\n",
      "95%         0.033246\n",
      "99%         0.053081\n",
      "99.9%       0.090617\n",
      "max         0.104919\n",
      "Name: greedy_loss_stems, dtype: float64\n"
     ]
    },
    {
     "data": {
      "text/html": [
       "<div>\n",
       "<table border=\"1\" class=\"dataframe\">\n",
       "  <thead>\n",
       "    <tr style=\"text-align: right;\">\n",
       "      <th></th>\n",
       "      <th></th>\n",
       "      <th>scheduler</th>\n",
       "      <th>exhaustive</th>\n",
       "      <th>greedy</th>\n",
       "      <th>stems_cpp</th>\n",
       "      <th>exhaustive_stems_sanity</th>\n",
       "      <th>greedy_loss_exhaustive</th>\n",
       "      <th>greedy_loss_stems</th>\n",
       "    </tr>\n",
       "    <tr>\n",
       "      <th>budget</th>\n",
       "      <th>num_apps</th>\n",
       "      <th>setup_id</th>\n",
       "      <th></th>\n",
       "      <th></th>\n",
       "      <th></th>\n",
       "      <th></th>\n",
       "      <th></th>\n",
       "      <th></th>\n",
       "    </tr>\n",
       "  </thead>\n",
       "  <tbody>\n",
       "    <tr>\n",
       "      <th rowspan=\"2\" valign=\"top\">150.0</th>\n",
       "      <th>8</th>\n",
       "      <th>88b3781f.v1</th>\n",
       "      <td>NaN</td>\n",
       "      <td>0.664051</td>\n",
       "      <td>0.741890</td>\n",
       "      <td>NaN</td>\n",
       "      <td>NaN</td>\n",
       "      <td>0.104919</td>\n",
       "    </tr>\n",
       "    <tr>\n",
       "      <th>9</th>\n",
       "      <th>1102dbef.v1</th>\n",
       "      <td>NaN</td>\n",
       "      <td>0.725342</td>\n",
       "      <td>0.806461</td>\n",
       "      <td>NaN</td>\n",
       "      <td>NaN</td>\n",
       "      <td>0.100586</td>\n",
       "    </tr>\n",
       "  </tbody>\n",
       "</table>\n",
       "</div>"
      ],
      "text/plain": [
       "scheduler                    exhaustive    greedy  stems_cpp  \\\n",
       "budget num_apps setup_id                                       \n",
       "150.0  8        88b3781f.v1         NaN  0.664051   0.741890   \n",
       "       9        1102dbef.v1         NaN  0.725342   0.806461   \n",
       "\n",
       "scheduler                    exhaustive_stems_sanity  greedy_loss_exhaustive  \\\n",
       "budget num_apps setup_id                                                       \n",
       "150.0  8        88b3781f.v1                      NaN                     NaN   \n",
       "       9        1102dbef.v1                      NaN                     NaN   \n",
       "\n",
       "scheduler                    greedy_loss_stems  \n",
       "budget num_apps setup_id                        \n",
       "150.0  8        88b3781f.v1           0.104919  \n",
       "       9        1102dbef.v1           0.100586  "
      ]
     },
     "execution_count": 91,
     "metadata": {},
     "output_type": "execute_result"
    }
   ],
   "source": [
    "df_view = df[df['sharing'] == 'mainstream']\n",
    "df_sched = pd.pivot_table(df, index=['budget', 'num_apps', 'setup_id'], values='f1', columns='scheduler')\n",
    "df_sched['exhaustive_stems_sanity'] = df_sched['exhaustive'] - df_sched['stems_cpp']\n",
    "assert len(df_sched[df_sched['exhaustive_stems_sanity'] > 1e-5]) == 0\n",
    "\n",
    "df_sched['greedy_loss_exhaustive'] = 1. - df_sched['greedy'] / df_sched['exhaustive']\n",
    "df_sched['greedy_loss_stems'] = 1. - df_sched['greedy'] / df_sched['stems_cpp']\n",
    "\n",
    "per = [.25, .4, .5, .75, .90, .95, .99, .999]\n",
    "\n",
    "print df_sched['greedy_loss_exhaustive'].describe(percentiles=per)\n",
    "print\n",
    "print df_sched['greedy_loss_stems'].describe(percentiles=per)\n",
    "df_sched[df_sched['greedy_loss_stems'] > .1]"
   ]
  },
  {
   "cell_type": "code",
   "execution_count": 87,
   "metadata": {},
   "outputs": [
    {
     "data": {
      "text/plain": [
       "<matplotlib.axes._subplots.AxesSubplot at 0x11a297110>"
      ]
     },
     "execution_count": 87,
     "metadata": {},
     "output_type": "execute_result"
    },
    {
     "data": {
      "image/png": "[encoded data removed]",
      "text/plain": [
       "<Figure size 432x288 with 1 Axes>"
      ]
     },
     "metadata": {},
     "output_type": "display_data"
    }
   ],
   "source": [
    "import seaborn as sns\n",
    "sns.distplot(df_sched['greedy_loss_exhaustive'].dropna())"
   ]
  },
  {
   "cell_type": "code",
   "execution_count": 86,
   "metadata": {},
   "outputs": [
    {
     "data": {
      "text/plain": [
       "<matplotlib.axes._subplots.AxesSubplot at 0x1199404d0>"
      ]
     },
     "execution_count": 86,
     "metadata": {},
     "output_type": "execute_result"
    },
    {
     "data": {
      "image/png": "[encoded data removed]",
      "text/plain": [
       "<Figure size 432x288 with 1 Axes>"
      ]
     },
     "metadata": {},
     "output_type": "display_data"
    }
   ],
   "source": [
    "sns.distplot(df_sched['greedy_loss_stems'].dropna())"
   ]
  }
 ],
 "metadata": {
  "kernelspec": {
   "display_name": "Python 2",
   "language": "python",
   "name": "python2"
  },
  "language_info": {
   "codemirror_mode": {
    "name": "ipython",
    "version": 2
   },
   "file_extension": ".py",
   "mimetype": "text/x-python",
   "name": "python",
   "nbconvert_exporter": "python",
   "pygments_lexer": "ipython2",
   "version": "2.7.13"
  }
 },
 "nbformat": 4,
 "nbformat_minor": 2
}
