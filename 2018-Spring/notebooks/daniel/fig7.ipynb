{
 "cells": [
  {
   "cell_type": "code",
   "execution_count": 1,
   "metadata": {
    "scrolled": true
   },
   "outputs": [],
   "source": [
    "%run ../template.ipynb"
   ]
  },
  {
   "cell_type": "code",
   "execution_count": 2,
   "metadata": {},
   "outputs": [],
   "source": [
    "exp_id = \"050318\"\n",
    "series_names = [\"mainstream\", \"maxsharing\", \"nosharing\"]"
   ]
  },
  {
   "cell_type": "code",
   "execution_count": 3,
   "metadata": {},
   "outputs": [
    {
     "name": "stdout",
     "output_type": "stream",
     "text": [
      "Loading setups... Done\n",
      "Loading setups... Done\n"
     ]
    }
   ],
   "source": [
    "setups = dataloaders.load_setups(exp_id, setup_file_str=\"/setups.{exp_id}-3{version}.pickle\")\n",
    "setups.update(dataloaders.load_setups(exp_id, setup_file_str=\"/setups.{exp_id}-4{version}.pickle\"))"
   ]
  },
  {
   "cell_type": "code",
   "execution_count": 4,
   "metadata": {
    "hideCode": false
   },
   "outputs": [],
   "source": [
    "rows = []\n",
    "for series_name in series_names:\n",
    "    schedules = dataloaders.load_schedules(\"050318\", \"greedy.\" + series_name + \".sim.*-3.v1\", setups=setups)\n",
    "    schedules += dataloaders.load_schedules(\"050318\", \"greedy.\" + series_name + \".sim.*-4.v1\", setups=setups)\n",
    "    # Extract some attributes from the schedules.\n",
    "    # Add on some based on the file name.\n",
    "    rows += ex(schedules,\n",
    "               each=lambda s: {'f1': mean(s.f1s), 'fps': mean(s.fpses), 'num_apps': s.num_apps, 'budget': s.budget},\n",
    "               constant={'scheduler': 'greedy', 'sharing': series_name})\n",
    "df = comb(rows)"
   ]
  },
  {
   "cell_type": "code",
   "execution_count": 5,
   "metadata": {},
   "outputs": [
    {
     "name": "stdout",
     "output_type": "stream",
     "text": [
      "Index([u'budget', u'f1', u'fps', u'num_apps', u'scheduler', u'sharing'], dtype='object')\n"
     ]
    }
   ],
   "source": [
    "# See Pandas: Group By: split-apply-combine\n",
    "# https://pandas.pydata.org/pandas-docs/stable/groupby.html\n",
    "print(df.columns)\n",
    "df_view = df[df['budget'] == 100]\n",
    "# Group <setups> by number of apps, aggregate by mean.\n",
    "grouped = df_view.groupby(['sharing', 'num_apps'])\n",
    "\n",
    "aggregated = grouped['f1'].mean()\n",
    "unstacked = aggregated.unstack(0)\n",
    "xss, yss = zip(*[(unstacked[k].index, unstacked[k].values) for k in series_names])\n",
    "series = [Series(x=xs, y=ys, name=sn, plotstyle=sn) for xs, ys, sn in zip(xss, yss, series_names)]\n",
    "# plotstyles = [styles.SERIES[series_name] for series_name in series_names]\n",
    "# series = [Series(x=xs, y=ys, name=sn, plotstyle=ps) for xs, ys, ps, sn in zip(xss, yss, plotstyles, series_names)]"
   ]
  },
  {
   "cell_type": "code",
   "execution_count": 6,
   "metadata": {
    "scrolled": true
   },
   "outputs": [
    {
     "data": {
      "image/png": "[encoded data removed]",
      "text/plain": [
       "<matplotlib.figure.Figure at 0x1105bf5d0>"
      ]
     },
     "metadata": {},
     "output_type": "display_data"
    }
   ],
   "source": [
    "plotparams = dict(lw=4, markersize=8)\n",
    "plot.variants(series, plot_kwargs=plotparams)\n",
    "plot.save('scheduler', exp_id, 'f1')"
   ]
  }
 ],
 "metadata": {
  "kernelspec": {
   "display_name": "Python 2",
   "language": "python",
   "name": "python2"
  },
  "language_info": {
   "codemirror_mode": {
    "name": "ipython",
    "version": 2
   },
   "file_extension": ".py",
   "mimetype": "text/x-python",
   "name": "python",
   "nbconvert_exporter": "python",
   "pygments_lexer": "ipython2",
   "version": "2.7.13"
  }
 },
 "nbformat": 4,
 "nbformat_minor": 2
}
