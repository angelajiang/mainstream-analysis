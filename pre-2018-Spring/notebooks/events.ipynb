{
 "cells": [
  {
   "cell_type": "code",
   "execution_count": 26,
   "metadata": {},
   "outputs": [],
   "source": [
    "import pandas as pd\n",
    "import seaborn as sns\n",
    "%matplotlib inline"
   ]
  },
  {
   "cell_type": "code",
   "execution_count": 35,
   "metadata": {},
   "outputs": [],
   "source": [
    "data = \"\"\"../mainstream/image-data/instances/atrium/pedestrian/0/ 33\n",
    "../mainstream/image-data/instances/atrium/pedestrian/1/ 44\n",
    "../mainstream/image-data/instances/atrium/pedestrian/2/ 30\n",
    "../mainstream/image-data/instances/atrium/pedestrian/3/ 44\n",
    "../mainstream/image-data/instances/atrium/pedestrian/4/ 38\n",
    "../mainstream/image-data/instances/atrium/pedestrian/5/ 40\n",
    "../mainstream/image-data/instances/atrium/pedestrian/6/ 55\n",
    "../mainstream/image-data/instances/atrium/pedestrian/7/ 115\n",
    "../mainstream/image-data/instances/atrium/pedestrian/8/ 257\n",
    "../mainstream/image-data/instances/atrium/pedestrian/9/ 23\n",
    "../mainstream/image-data/instances/atrium/pedestrian/10/ 18\n",
    "../mainstream/image-data/instances/atrium/pedestrian/11/ 103\n",
    "../mainstream/image-data/instances/atrium/pedestrian/12/ 32\n",
    "../mainstream/image-data/instances/atrium/pedestrian/13/ 110\n",
    "../mainstream/image-data/instances/atrium/pedestrian/14/ 76\n",
    "../mainstream/image-data/instances/atrium/pedestrian/15/ 0\n",
    "../mainstream/image-data/instances/atrium/pedestrian/16/ 0\n",
    "../mainstream/image-data/instances/atrium/pedestrian/17/ 86\n",
    "../mainstream/image-data/instances/atrium/pedestrian/18/ 5\n",
    "../mainstream/image-data/instances/atrium/pedestrian/19/ 124\n",
    "../mainstream/image-data/instances/atrium/pedestrian/20/ 111\n",
    "../mainstream/image-data/instances/atrium/pedestrian/21/ 149\n",
    "../mainstream/image-data/instances/atrium/pedestrian/22/ 66\n",
    "../mainstream/image-data/instances/atrium/pedestrian/23/ 77\n",
    "../mainstream/image-data/instances/atrium/pedestrian/24/ 18\n",
    "../mainstream/image-data/instances/atrium/pedestrian/25/ 90\n",
    "../mainstream/image-data/instances/atrium/pedestrian/26/ 9\n",
    "../mainstream/image-data/instances/atrium/pedestrian/27/ 76\n",
    "../mainstream/image-data/instances/atrium/pedestrian/28/ 31\n",
    "../mainstream/image-data/instances/atrium/pedestrian/29/ 42\n",
    "../mainstream/image-data/instances/atrium/pedestrian/30/ 29\n",
    "../mainstream/image-data/instances/atrium/pedestrian/31/ 74\n",
    "../mainstream/image-data/instances/atrium/pedestrian/32/ 39\n",
    "../mainstream/image-data/instances/atrium/pedestrian/33/ 0\n",
    "../mainstream/image-data/instances/atrium/pedestrian/34/ 23\n",
    "../mainstream/image-data/instances/atrium/pedestrian/35/ 63\n",
    "../mainstream/image-data/instances/atrium/pedestrian/36/ 52\n",
    "../mainstream/image-data/instances/atrium/pedestrian/37/ 49\n",
    "../mainstream/image-data/instances/atrium/pedestrian/38/ 66\n",
    "../mainstream/image-data/instances/atrium/pedestrian/39/ 0\n",
    "../mainstream/image-data/instances/atrium/pedestrian/40/ 2\n",
    "../mainstream/image-data/instances/atrium/pedestrian/41/ 151\n",
    "../mainstream/image-data/instances/atrium/pedestrian/42/ 0\n",
    "../mainstream/image-data/instances/atrium/pedestrian/43/ 8\n",
    "../mainstream/image-data/instances/atrium/pedestrian/44/ 31\n",
    "../mainstream/image-data/instances/atrium/pedestrian/45/ 28\n",
    "../mainstream/image-data/instances/atrium/pedestrian/46/ 30\n",
    "../mainstream/image-data/instances/atrium/pedestrian/47/ 81\n",
    "../mainstream/image-data/instances/atrium/pedestrian/48/ 9\n",
    "../mainstream/image-data/instances/atrium/pedestrian/49/ 34\n",
    "../mainstream/image-data/instances/atrium/pedestrian/50/ 40\n",
    "../mainstream/image-data/instances/atrium/pedestrian/51/ 71\n",
    "../mainstream/image-data/instances/atrium/pedestrian/52/ 77\"\"\"\n",
    "data = [line.split(' ') for line in data.split(\"\\n\")]\n",
    "data = [(int(a.split('/')[-2]), int(b)) for a, b in data]\n",
    "data_dct = {k: v for k, v in data}"
   ]
  },
  {
   "cell_type": "code",
   "execution_count": 22,
   "metadata": {
    "scrolled": true
   },
   "outputs": [
    {
     "data": {
      "text/html": [
       "<div>\n",
       "<table border=\"1\" class=\"dataframe\">\n",
       "  <thead>\n",
       "    <tr style=\"text-align: right;\">\n",
       "      <th></th>\n",
       "      <th>Length</th>\n",
       "    </tr>\n",
       "  </thead>\n",
       "  <tbody>\n",
       "    <tr>\n",
       "      <th>count</th>\n",
       "      <td>53.000000</td>\n",
       "    </tr>\n",
       "    <tr>\n",
       "      <th>mean</th>\n",
       "      <td>53.943396</td>\n",
       "    </tr>\n",
       "    <tr>\n",
       "      <th>std</th>\n",
       "      <td>47.964496</td>\n",
       "    </tr>\n",
       "    <tr>\n",
       "      <th>min</th>\n",
       "      <td>0.000000</td>\n",
       "    </tr>\n",
       "    <tr>\n",
       "      <th>25%</th>\n",
       "      <td>23.000000</td>\n",
       "    </tr>\n",
       "    <tr>\n",
       "      <th>50%</th>\n",
       "      <td>40.000000</td>\n",
       "    </tr>\n",
       "    <tr>\n",
       "      <th>75%</th>\n",
       "      <td>76.000000</td>\n",
       "    </tr>\n",
       "    <tr>\n",
       "      <th>max</th>\n",
       "      <td>257.000000</td>\n",
       "    </tr>\n",
       "  </tbody>\n",
       "</table>\n",
       "</div>"
      ],
      "text/plain": [
       "           Length\n",
       "count   53.000000\n",
       "mean    53.943396\n",
       "std     47.964496\n",
       "min      0.000000\n",
       "25%     23.000000\n",
       "50%     40.000000\n",
       "75%     76.000000\n",
       "max    257.000000"
      ]
     },
     "execution_count": 22,
     "metadata": {},
     "output_type": "execute_result"
    }
   ],
   "source": [
    "df = pd.DataFrame(data, columns=['Run ID','Length'])\n",
    "df = df.set_index('Run ID')\n",
    "df.describe()"
   ]
  },
  {
   "cell_type": "code",
   "execution_count": 30,
   "metadata": {
    "scrolled": true
   },
   "outputs": [
    {
     "data": {
      "text/plain": [
       "<matplotlib.axes._subplots.AxesSubplot at 0x118214410>"
      ]
     },
     "execution_count": 30,
     "metadata": {},
     "output_type": "execute_result"
    },
    {
     "data": {
      "image/png": "[encoded data removed]",
      "text/plain": [
       "<matplotlib.figure.Figure at 0x11821ed10>"
      ]
     },
     "metadata": {},
     "output_type": "display_data"
    }
   ],
   "source": [
    "%matplotlib inline\n",
    "sns.distplot(df, kde=False, norm_hist=True, rug=True)"
   ]
  },
  {
   "cell_type": "code",
   "execution_count": 37,
   "metadata": {
    "scrolled": true
   },
   "outputs": [
    {
     "data": {
      "text/plain": [
       "[0,\n",
       " 0,\n",
       " 0,\n",
       " 0,\n",
       " 0,\n",
       " 2,\n",
       " 5,\n",
       " 8,\n",
       " 9,\n",
       " 9,\n",
       " 18,\n",
       " 18,\n",
       " 23,\n",
       " 23,\n",
       " 28,\n",
       " 29,\n",
       " 30,\n",
       " 30,\n",
       " 31,\n",
       " 31,\n",
       " 32,\n",
       " 33,\n",
       " 34,\n",
       " 38,\n",
       " 39,\n",
       " 40,\n",
       " 40,\n",
       " 42,\n",
       " 44,\n",
       " 44,\n",
       " 49,\n",
       " 52,\n",
       " 55,\n",
       " 63,\n",
       " 66,\n",
       " 66,\n",
       " 71,\n",
       " 74,\n",
       " 76,\n",
       " 76,\n",
       " 77,\n",
       " 77,\n",
       " 81,\n",
       " 86,\n",
       " 90,\n",
       " 103,\n",
       " 110,\n",
       " 111,\n",
       " 115,\n",
       " 124,\n",
       " 149,\n",
       " 151,\n",
       " 257]"
      ]
     },
     "execution_count": 37,
     "metadata": {},
     "output_type": "execute_result"
    }
   ],
   "source": [
    "sorted(data_dct.values())"
   ]
  }
 ],
 "metadata": {
  "kernelspec": {
   "display_name": "Python 2",
   "language": "python",
   "name": "python2"
  },
  "language_info": {
   "codemirror_mode": {
    "name": "ipython",
    "version": 2
   },
   "file_extension": ".py",
   "mimetype": "text/x-python",
   "name": "python",
   "nbconvert_exporter": "python",
   "pygments_lexer": "ipython2",
   "version": "2.7.13"
  }
 },
 "nbformat": 4,
 "nbformat_minor": 2
}
